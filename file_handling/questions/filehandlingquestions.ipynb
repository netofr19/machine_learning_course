{
 "cells": [
  {
   "cell_type": "markdown",
   "metadata": {},
   "source": [
    "# Module: File Handling Assignments\n",
    "## Lesson: File Handling and Operations"
   ]
  },
  {
   "cell_type": "markdown",
   "id": "1df6cc74",
   "metadata": {},
   "source": [
    "### Assignment 1: Reading a File\n",
    "\n",
    "Write a function that reads the contents of a file named `sample.txt` and prints each line."
   ]
  },
  {
   "cell_type": "code",
   "execution_count": 1,
   "id": "7f626eaa",
   "metadata": {},
   "outputs": [],
   "source": [
    "def read_file(filename):\n",
    "    with open(filename, 'r') as file:\n",
    "        for line in file:\n",
    "            print(line.strip())\n",
    "\n",
    "# read_file(sample.txt)"
   ]
  },
  {
   "cell_type": "markdown",
   "id": "55cdaf54",
   "metadata": {},
   "source": [
    "### Assignment 2: Writing to a File\n",
    "\n",
    "Write a function that writes a list of strings to a file named `output.txt`, with each string on a new line."
   ]
  },
  {
   "cell_type": "code",
   "execution_count": 2,
   "id": "bb72e079",
   "metadata": {},
   "outputs": [],
   "source": [
    "def write_file(lines, filename):\n",
    "    with open(filename, 'w') as file:\n",
    "        for line in lines:\n",
    "            file.write(line + '\\n')\n",
    "\n",
    "strings = ['First Line', 'Second Line', 'Third Line']\n",
    "write_file(strings, 'output.txt')"
   ]
  },
  {
   "cell_type": "markdown",
   "id": "67119d9a",
   "metadata": {},
   "source": [
    "### Assignment 3: Copying a File\n",
    "\n",
    "Write a function that copies the contents of a file named `source.txt` to a new file named `destination.txt`."
   ]
  },
  {
   "cell_type": "code",
   "execution_count": 3,
   "id": "709b6e25",
   "metadata": {},
   "outputs": [],
   "source": [
    "def copy_file(source, destination):\n",
    "    with open(source, 'r') as src:\n",
    "        content = src.read()\n",
    "\n",
    "    with open(destination, 'w') as dest:\n",
    "        dest.write(content)\n",
    "\n",
    "copy_file('source.txt', 'destination.txt')"
   ]
  },
  {
   "cell_type": "markdown",
   "id": "f275ce68",
   "metadata": {},
   "source": [
    "### Assignment 4: Appending to a File\n",
    "\n",
    "Write a function that appends a given string to the end of a file named `log.txt`."
   ]
  },
  {
   "cell_type": "code",
   "execution_count": 4,
   "id": "51107c89",
   "metadata": {},
   "outputs": [],
   "source": [
    "def append_file(string, filename):\n",
    "    with open(filename, 'a') as file:\n",
    "        file.write(string + '\\n')\n",
    "\n",
    "append_file('this is a new log entry.', 'log.txt')"
   ]
  },
  {
   "cell_type": "markdown",
   "id": "2ebc6832",
   "metadata": {},
   "source": [
    "### Assignment 5: Counting Words in a File\n",
    "\n",
    "Write a function that reads the contents of a file named `document.txt` and returns the number of words in the file."
   ]
  },
  {
   "cell_type": "code",
   "execution_count": 5,
   "id": "d59027ac",
   "metadata": {},
   "outputs": [
    {
     "data": {
      "text/plain": [
       "9"
      ]
     },
     "execution_count": 5,
     "metadata": {},
     "output_type": "execute_result"
    }
   ],
   "source": [
    "def count_words(filename):\n",
    "    with open(filename, 'r') as file:\n",
    "        text = file.read()\n",
    "\n",
    "    return len(text.split())\n",
    "\n",
    "count_words('document.txt')"
   ]
  },
  {
   "cell_type": "markdown",
   "id": "7b10c2da",
   "metadata": {},
   "source": [
    "### Assignment 6: Finding and Replacing Text\n",
    "\n",
    "Write a function that finds and replaces all occurrences of a given word in a file named `data.txt` with another word."
   ]
  },
  {
   "cell_type": "code",
   "execution_count": 7,
   "id": "468126eb",
   "metadata": {},
   "outputs": [],
   "source": [
    "def find_and_replace(filename, old_word, new_word):\n",
    "    with open(filename, 'r') as file:\n",
    "        text = file.read()\n",
    "    new_text = text.replace(old_word, new_word)\n",
    "    with open(filename, 'w') as file:\n",
    "        file.write(new_text)\n",
    "\n",
    "find_and_replace('data.txt', 'de', 'XX')"
   ]
  },
  {
   "cell_type": "markdown",
   "id": "3580fc70",
   "metadata": {},
   "source": [
    "### Assignment 7: Reading a File in Reverse\n",
    "\n",
    "Write a function that reads the contents of a file named `reverse.txt` and prints each line in reverse order."
   ]
  },
  {
   "cell_type": "code",
   "execution_count": 10,
   "id": "53f7dbd7",
   "metadata": {},
   "outputs": [
    {
     "name": "stdout",
     "output_type": "stream",
     "text": [
      "quantas palavras tem\n",
      "para contar\n",
      "este é um teste\n"
     ]
    }
   ],
   "source": [
    "def reverse_file(filename):\n",
    "    with open(filename, 'r') as file:\n",
    "        lines = file.readlines()\n",
    "    for line in reversed(lines):\n",
    "        print(line.strip())\n",
    "\n",
    "reverse_file('document.txt')"
   ]
  },
  {
   "cell_type": "markdown",
   "id": "82ee44f3",
   "metadata": {},
   "source": [
    "### Assignment 8: Counting Lines, Words, and Characters\n",
    "\n",
    "Write a function that reads the contents of a file named `stats.txt` and returns the number of lines, words, and characters in the file."
   ]
  },
  {
   "cell_type": "code",
   "execution_count": 11,
   "id": "19bd939e",
   "metadata": {},
   "outputs": [
    {
     "name": "stdout",
     "output_type": "stream",
     "text": [
      "Number of:\n",
      "Lines: 19\n",
      "Words: 515\n",
      "Characters: 2825\n"
     ]
    }
   ],
   "source": [
    "def count_stats(filename):\n",
    "    with open(filename, 'r') as file:\n",
    "        lines = file.readlines()\n",
    "    \n",
    "    n_lines = len(lines)\n",
    "    n_words = sum(len(line.split()) for line in lines)\n",
    "    n_chars = sum(len(line) for line in lines)\n",
    "\n",
    "    return n_lines, n_words, n_chars\n",
    "\n",
    "lines, words, characteres = count_stats('data.txt')\n",
    "\n",
    "print(f\"Number of:\\nLines: {lines}\\nWords: {words}\\nCharacters: {characteres}\")"
   ]
  },
  {
   "cell_type": "markdown",
   "id": "fd6e41e5",
   "metadata": {},
   "source": [
    "### Assignment 9: Merging Multiple Files\n",
    "\n",
    "Write a function that merges the contents of multiple files into a single file named `merged.txt`."
   ]
  },
  {
   "cell_type": "code",
   "execution_count": 14,
   "id": "b25a6c0c",
   "metadata": {},
   "outputs": [],
   "source": [
    "def merge_files(file_list, output):\n",
    "    with open(output, 'w') as output:\n",
    "        for filename in file_list:\n",
    "            with open(filename, 'r') as file:\n",
    "                output.write(file.read() + '\\n')\n",
    "\n",
    "merge_files(['destination.txt', 'document.txt', 'log.txt'], 'merged.txt')"
   ]
  },
  {
   "cell_type": "markdown",
   "id": "e1d320ce",
   "metadata": {},
   "source": [
    "### Assignment 10: Splitting a Large File\n",
    "\n",
    "Write a function that splits a large file named `large.txt` into smaller files of 100 lines each."
   ]
  },
  {
   "cell_type": "code",
   "execution_count": 15,
   "id": "1bbc1caa",
   "metadata": {},
   "outputs": [],
   "source": [
    "def splits_file(filename, n_lines):\n",
    "    with open(filename, 'r') as file:\n",
    "        lines = file.readlines()\n",
    "    \n",
    "    for i in range(0, len(lines), n_lines):\n",
    "        with open(f'{filename}_part{i//n_lines+1}.txt', 'w') as part_file:\n",
    "            part_file.writelines(lines[i:i+n_lines])\n",
    "\n",
    "splits_file('data.txt', 4)"
   ]
  },
  {
   "cell_type": "markdown",
   "id": "82897977",
   "metadata": {},
   "source": [
    "### Assignment 11: Creating a Log File\n",
    "\n",
    "Write a function that creates a log file named `activity.log` and writes log messages with timestamps."
   ]
  },
  {
   "cell_type": "code",
   "execution_count": 16,
   "id": "73ba1e94",
   "metadata": {},
   "outputs": [],
   "source": [
    "from datetime import datetime\n",
    "\n",
    "def create_log(message, filename='activity.log'):\n",
    "    timestamp = datetime.now().isoformat()\n",
    "    with open(filename, 'a') as file:\n",
    "        file.write(f\"[{timestamp}] - {message}\\n\")\n",
    "\n",
    "create_log('inicio do sistema')\n",
    "create_log('configuração do sistema')\n",
    "create_log('inicio do processamento')\n",
    "create_log('carregamento de dados')"
   ]
  },
  {
   "cell_type": "markdown",
   "id": "4aed98ed",
   "metadata": {},
   "source": [
    "### Assignment 12: Binary File Operations\n",
    "\n",
    "Write a function that reads a binary file named `image.bin` and writes its contents to another binary file named `copy_image.bin`."
   ]
  },
  {
   "cell_type": "code",
   "execution_count": 17,
   "id": "e7bd8411",
   "metadata": {},
   "outputs": [],
   "source": [
    "def copy_binary_file(source, destination):\n",
    "    with open(source, 'rb') as src:\n",
    "        with open(destination, 'wb') as dest:\n",
    "            dest.write(src.read())"
   ]
  },
  {
   "cell_type": "markdown",
   "id": "4f3cf9c6",
   "metadata": {},
   "source": [
    "### Assignment 13: CSV File Operations\n",
    "\n",
    "Write a function that reads a CSV file named `data.csv` and prints its contents as a list of dictionaries."
   ]
  },
  {
   "cell_type": "code",
   "execution_count": 19,
   "id": "c5357cf8",
   "metadata": {},
   "outputs": [
    {
     "name": "stdout",
     "output_type": "stream",
     "text": [
      "[{'\\ufeffcidade': 'João Pessoa', 'estado': 'Paraiba'}, {'\\ufeffcidade': 'Natal', 'estado': 'Rio grande do norte'}, {'\\ufeffcidade': 'Recife', 'estado': 'Pernambuco'}]\n"
     ]
    }
   ],
   "source": [
    "import csv\n",
    "\n",
    "def read_csv_as_dicts(filename):\n",
    "    with open(filename, 'r') as file:\n",
    "        reader = csv.DictReader(file)\n",
    "        return list(reader)\n",
    "\n",
    "print(read_csv_as_dicts('data.csv'))"
   ]
  },
  {
   "cell_type": "markdown",
   "id": "d5c3e008",
   "metadata": {},
   "source": [
    "### Assignment 14: JSON File Operations\n",
    "\n",
    "Write a function that reads a JSON file named `data.json` and prints its contents as a Python dictionary."
   ]
  },
  {
   "cell_type": "code",
   "execution_count": 1,
   "id": "286c5b06",
   "metadata": {},
   "outputs": [
    {
     "name": "stdout",
     "output_type": "stream",
     "text": [
      "{'name': 'John Doe', 'age': 30, 'is_student': False, 'courses': [{'name': 'Math', 'grade': 'A'}, {'name': 'Science', 'grade': 'B+'}, {'name': 'History', 'grade': 'A-'}], 'address': {'street': '123 Main St', 'city': 'Anytown', 'zipcode': '12345'}, 'phone_numbers': ['123-456-7890', '987-654-3210']}\n"
     ]
    }
   ],
   "source": [
    "import json\n",
    "def read_json_file(filename):\n",
    "    with open(filename, 'r') as file:\n",
    "        data = json.load(file)\n",
    "        return data\n",
    "    \n",
    "print(read_json_file('sample_data.json'))"
   ]
  },
  {
   "cell_type": "markdown",
   "id": "5002dbc6",
   "metadata": {},
   "source": [
    "### Assignment 15: File Permission Handling\n",
    "\n",
    "Write a function that attempts to read a file named `protected.txt` and handles any permission errors gracefully by printing an error message."
   ]
  },
  {
   "cell_type": "code",
   "execution_count": null,
   "id": "289f3298",
   "metadata": {},
   "outputs": [],
   "source": [
    "def read_protected_file(filename):\n",
    "    try:\n",
    "        with open(filename, 'r') as file:\n",
    "            print(file.read())\n",
    "    except PermissionError as e:\n",
    "        print(f\"Permission error: {e}\")"
   ]
  }
 ],
 "metadata": {
  "kernelspec": {
   "display_name": "Python 3",
   "language": "python",
   "name": "python3"
  },
  "language_info": {
   "codemirror_mode": {
    "name": "ipython",
    "version": 3
   },
   "file_extension": ".py",
   "mimetype": "text/x-python",
   "name": "python",
   "nbconvert_exporter": "python",
   "pygments_lexer": "ipython3",
   "version": "3.12.4"
  }
 },
 "nbformat": 4,
 "nbformat_minor": 5
}
