{
 "cells": [
  {
   "cell_type": "markdown",
   "metadata": {},
   "source": [
    "# Module: Inheritance Assignments\n",
    "## Lesson: Single and Multiple Inheritance"
   ]
  },
  {
   "cell_type": "markdown",
   "id": "c5244c74",
   "metadata": {},
   "source": [
    "### Assignment 1: Single Inheritance Basic\n",
    "\n",
    "Create a base class named `Animal` with attributes `name` and `species`. Create a derived class named `Dog` that inherits from `Animal` and adds an attribute `breed`. Create an object of the `Dog` class and print its attributes."
   ]
  },
  {
   "cell_type": "code",
   "execution_count": 1,
   "id": "1b47aacb",
   "metadata": {},
   "outputs": [
    {
     "name": "stdout",
     "output_type": "stream",
     "text": [
      "Name: Buddy\n",
      "Specie: Canine\n",
      "Breed: Golden Retriever\n"
     ]
    }
   ],
   "source": [
    "class Animal:\n",
    "\n",
    "    def __init__(self, name, species) -> None:\n",
    "        self.name = name\n",
    "        self.species = species\n",
    "\n",
    "class Dog(Animal):\n",
    "\n",
    "    def __init__(self, name, species, breed) -> None:\n",
    "        super().__init__(name, species)\n",
    "        self.breed = breed\n",
    "\n",
    "# Test\n",
    "dog = Dog('Buddy', 'Canine', 'Golden Retriever')\n",
    "print(f'Name: {dog.name}\\nSpecie: {dog.species}\\nBreed: {dog.breed}')"
   ]
  },
  {
   "cell_type": "markdown",
   "id": "d3aa407c",
   "metadata": {},
   "source": [
    "### Assignment 2: Method Overriding in Single Inheritance\n",
    "\n",
    "In the `Dog` class, override the `__str__` method to return a string representation of the object. Create an object of the class and print it."
   ]
  },
  {
   "cell_type": "code",
   "execution_count": 2,
   "id": "2cf137dd",
   "metadata": {},
   "outputs": [
    {
     "name": "stdout",
     "output_type": "stream",
     "text": [
      "Dog Attributes:\n",
      "Name: Buddy\n",
      "Specie: Canine\n",
      "Breed: Golden Retriever\n"
     ]
    }
   ],
   "source": [
    "class Animal:\n",
    "\n",
    "    def __init__(self, name, species) -> None:\n",
    "        self.name = name\n",
    "        self.species = species\n",
    "\n",
    "class Dog(Animal):\n",
    "\n",
    "    def __init__(self, name, species, breed) -> None:\n",
    "        super().__init__(name, species)\n",
    "        self.breed = breed\n",
    "\n",
    "    def __str__(self) -> str:\n",
    "        return f\"Dog Attributes:\\nName: {self.name}\\nSpecie: {self.species}\\nBreed: {self.breed}\"\n",
    "    \n",
    "# Test\n",
    "dog = Dog('Buddy', 'Canine', 'Golden Retriever')\n",
    "print(dog)"
   ]
  },
  {
   "cell_type": "markdown",
   "id": "3efcaa95",
   "metadata": {},
   "source": [
    "\n",
    "### Assignment 3: Single Inheritance with Additional Methods\n",
    "\n",
    "In the `Dog` class, add a method named `bark` that prints a barking sound. Create an object of the class and call the method.\n"
   ]
  },
  {
   "cell_type": "code",
   "execution_count": 3,
   "id": "a11ad7ba",
   "metadata": {},
   "outputs": [
    {
     "name": "stdout",
     "output_type": "stream",
     "text": [
      "The dog Buddy says Woof!\n"
     ]
    }
   ],
   "source": [
    "class Animal:\n",
    "\n",
    "    def __init__(self, name, species) -> None:\n",
    "        self.name = name\n",
    "        self.species = species\n",
    "\n",
    "class Dog(Animal):\n",
    "\n",
    "    def __init__(self, name, species, breed) -> None:\n",
    "        super().__init__(name, species)\n",
    "        self.breed = breed\n",
    "\n",
    "    def __str__(self) -> str:\n",
    "        return f\"Dog Attributes:\\nName: {self.name}\\nSpecie: {self.species}\\nBreed: {self.breed}\"\n",
    "    \n",
    "    def bark(self) -> None:\n",
    "        print(f'The dog {dog.name} says Woof!')\n",
    "\n",
    "# Test\n",
    "dog = Dog('Buddy', 'Canine', 'Golden Retriever')\n",
    "dog.bark()"
   ]
  },
  {
   "cell_type": "markdown",
   "id": "12db6278",
   "metadata": {},
   "source": [
    "\n",
    "### Assignment 4: Multiple Inheritance Basic\n",
    "\n",
    "Create a base class named `Walker` with a method `walk` that prints a walking message. Create another base class named `Runner` with a method `run` that prints a running message. Create a derived class named `Athlete` that inherits from both `Walker` and `Runner`. Create an object of the `Athlete` class and call both methods.\n"
   ]
  },
  {
   "cell_type": "code",
   "execution_count": 4,
   "id": "24846f54",
   "metadata": {},
   "outputs": [
    {
     "name": "stdout",
     "output_type": "stream",
     "text": [
      "walking...\n",
      "running...\n",
      "running...\n"
     ]
    }
   ],
   "source": [
    "class Walker:\n",
    "    def walk(self):\n",
    "        print('walking...')\n",
    "\n",
    "class Runner:\n",
    "    def run(self):\n",
    "        print('running...')\n",
    "\n",
    "class Athlete(Walker, Runner):\n",
    "    pass\n",
    "\n",
    "# Test\n",
    "athl1 = Athlete()\n",
    "athl1.walk()\n",
    "athl1.run()\n",
    "athl1.run()"
   ]
  },
  {
   "cell_type": "markdown",
   "id": "66287ca0",
   "metadata": {},
   "source": [
    "\n",
    "### Assignment 5: Method Resolution Order (MRO) in Multiple Inheritance\n",
    "\n",
    "In the `Athlete` class, override the `walk` method to print a different message. Create an object of the class and call the `walk` method. Use the `super()` function to call the `walk` method of the `Walker` class.\n"
   ]
  },
  {
   "cell_type": "code",
   "execution_count": 5,
   "id": "d53f1365",
   "metadata": {},
   "outputs": [
    {
     "name": "stdout",
     "output_type": "stream",
     "text": [
      "Athlete walking...\n",
      "walking...\n"
     ]
    }
   ],
   "source": [
    "class Walker:\n",
    "    def walk(self):\n",
    "        print('walking...')\n",
    "\n",
    "class Runner:\n",
    "    def run(self):\n",
    "        print('running...')\n",
    "\n",
    "class Athlete(Walker, Runner):\n",
    "    def walk(self):\n",
    "        print('Athlete walking...')\n",
    "        super().walk()\n",
    "\n",
    "# Teste\n",
    "athl1 = Athlete()\n",
    "athl1.walk()"
   ]
  },
  {
   "cell_type": "markdown",
   "id": "00704d09",
   "metadata": {},
   "source": [
    "\n",
    "### Assignment 6: Multiple Inheritance with Additional Attributes\n",
    "\n",
    "In the `Athlete` class, add an attribute `training_hours` and a method `train` that prints the training hours. Create an object of the class and call the method.\n"
   ]
  },
  {
   "cell_type": "code",
   "execution_count": 6,
   "id": "3db7cc64",
   "metadata": {},
   "outputs": [
    {
     "name": "stdout",
     "output_type": "stream",
     "text": [
      "Training for 2 hours!\n"
     ]
    }
   ],
   "source": [
    "class Walker:\n",
    "    def walk(self):\n",
    "        print('walking...')\n",
    "\n",
    "class Runner:\n",
    "    def run(self):\n",
    "        print('running...')\n",
    "\n",
    "class Athlete(Walker, Runner):\n",
    "\n",
    "    def __init__(self, training_hours) -> None:\n",
    "        self.training_hours = training_hours\n",
    "    \n",
    "    def train(self):\n",
    "        print(f\"Training for {self.training_hours} hours!\")\n",
    "\n",
    "    def walk(self):\n",
    "        print('Athlete walking...')\n",
    "        super().walk()\n",
    "\n",
    "# Test\n",
    "athl1 = Athlete(2)\n",
    "athl1.train()"
   ]
  },
  {
   "cell_type": "markdown",
   "id": "614caa34",
   "metadata": {},
   "source": [
    "\n",
    "### Assignment 7: Diamond Problem in Multiple Inheritance\n",
    "\n",
    "Create a class named `A` with a method `show` that prints a message. Create two derived classes `B` and `C` that inherit from `A` and override the `show` method. Create a class `D` that inherits from both `B` and `C`. Create an object of the `D` class and call the `show` method. Observe the method resolution order.\n"
   ]
  },
  {
   "cell_type": "code",
   "execution_count": 7,
   "id": "faa422eb",
   "metadata": {},
   "outputs": [
    {
     "name": "stdout",
     "output_type": "stream",
     "text": [
      "Message of B\n"
     ]
    }
   ],
   "source": [
    "class A:\n",
    "    def show(self):\n",
    "        print('Message of A')\n",
    "\n",
    "class B(A):\n",
    "    def show(self):\n",
    "        print('Message of B')\n",
    "\n",
    "class C(A):\n",
    "    def show(self):\n",
    "        print('Message of C')\n",
    "\n",
    "class D(B, C):\n",
    "    pass\n",
    "\n",
    "\n",
    "# Test\n",
    "obj = D()\n",
    "obj.show()\n"
   ]
  },
  {
   "cell_type": "markdown",
   "id": "f0e796f8",
   "metadata": {},
   "source": [
    "\n",
    "### Assignment 8: Using `super()` in Single Inheritance\n",
    "\n",
    "Create a base class named `Shape` with an attribute `color`. Create a derived class named `Circle` that inherits from `Shape` and adds an attribute `radius`. Use the `super()` function to initialize the attributes. Create an object of the `Circle` class and print its attributes.\n"
   ]
  },
  {
   "cell_type": "code",
   "execution_count": 8,
   "id": "52f1077a",
   "metadata": {},
   "outputs": [
    {
     "name": "stdout",
     "output_type": "stream",
     "text": [
      "Circle(color: green, radius: 10)\n"
     ]
    }
   ],
   "source": [
    "class Shape:\n",
    "    def __init__(self, color) -> None:\n",
    "        self.color = color\n",
    "\n",
    "class Circle(Shape):\n",
    "    def __init__(self, color, radius) -> None:\n",
    "        super().__init__(color)\n",
    "        self.radius = radius\n",
    "\n",
    "    def __str__(self) -> str:\n",
    "        return f'Circle(color: {self.color}, radius: {self.radius})'\n",
    "\n",
    "# Test\n",
    "c1 = Circle('green', 10)\n",
    "print(c1)"
   ]
  },
  {
   "cell_type": "markdown",
   "id": "dd2a5d8c",
   "metadata": {},
   "source": [
    "### Assignment 9: Using `super()` in Multiple Inheritance\n",
    "\n",
    "Create a class named `Person` with an attribute `name`. Create a class named `Employee` with an attribute `employee_id`. Create a derived class `Manager` that inherits from both `Person` and `Employee`. Use the `super()` function to initialize the attributes. Create an object of the `Manager` class and print its attributes.\n"
   ]
  },
  {
   "cell_type": "code",
   "execution_count": 9,
   "id": "0a677dad",
   "metadata": {},
   "outputs": [
    {
     "name": "stdout",
     "output_type": "stream",
     "text": [
      "Manager(Name: Jack, ID: 1255ba21)\n"
     ]
    }
   ],
   "source": [
    "class Person:\n",
    "    def __init__(self, name) -> None:\n",
    "        self.name = name\n",
    "\n",
    "class Employee:\n",
    "    def __init__(self, employee_id) -> None:\n",
    "        self.employee_id = employee_id\n",
    "\n",
    "class Manager(Person, Employee):\n",
    "    def __init__(self, name, employee_id) -> None:\n",
    "        Person.__init__(self, name)\n",
    "        Employee.__init__(self, employee_id)\n",
    "\n",
    "    def __str__(self) -> str:\n",
    "        return f'Manager(Name: {self.name}, ID: {self.employee_id})'\n",
    "\n",
    "man1 = Manager('Jack', '1255ba21')\n",
    "print(man1)"
   ]
  },
  {
   "cell_type": "markdown",
   "id": "80fe9f11",
   "metadata": {},
   "source": [
    "\n",
    "### Assignment 10: Method Overriding and `super()`\n",
    "\n",
    "Create a class named `Vehicle` with a method `start` that prints a starting message. Create a derived class `Car` that overrides the `start` method to print a different message. Use the `super()` function to call the `start` method of the `Vehicle` class. Create an object of the `Car` class and call the `start` method.\n"
   ]
  },
  {
   "cell_type": "code",
   "execution_count": 10,
   "id": "303dde54",
   "metadata": {},
   "outputs": [
    {
     "name": "stdout",
     "output_type": "stream",
     "text": [
      "Car starting...\n",
      "Vehicle starting...\n"
     ]
    }
   ],
   "source": [
    "class Vehicle:\n",
    "    def start(self):\n",
    "        print('Vehicle starting...')\n",
    "\n",
    "class Car(Vehicle):\n",
    "    def start(self):\n",
    "        print('Car starting...')\n",
    "        super().start()\n",
    "\n",
    "# Test\n",
    "car1 = Car()\n",
    "car1.start()"
   ]
  },
  {
   "cell_type": "markdown",
   "id": "460bb2c3",
   "metadata": {},
   "source": [
    "\n",
    "### Assignment 11: Multiple Inheritance with Different Methods\n",
    "\n",
    "Create a class named `Flyer` with a method `fly` that prints a flying message. Create a class named `Swimmer` with a method `swim` that prints a swimming message. Create a derived class `Superhero` that inherits from both `Flyer` and `Swimmer`. Create an object of the `Superhero` class and call both methods.\n"
   ]
  },
  {
   "cell_type": "code",
   "execution_count": 11,
   "id": "6cb0ec4f",
   "metadata": {},
   "outputs": [
    {
     "name": "stdout",
     "output_type": "stream",
     "text": [
      "I'm flying!\n",
      "I'm swimming!\n"
     ]
    }
   ],
   "source": [
    "class Flyer:\n",
    "    def fly(self):\n",
    "        print(\"I'm flying!\")\n",
    "\n",
    "class Swimmer:\n",
    "    def swim(self):\n",
    "        print(\"I'm swimming!\")\n",
    "\n",
    "class Superhero(Flyer, Swimmer):\n",
    "    pass\n",
    "\n",
    "sp1 = Superhero()\n",
    "sp1.fly()\n",
    "sp1.swim()"
   ]
  },
  {
   "cell_type": "markdown",
   "id": "387705dd",
   "metadata": {},
   "source": [
    "\n",
    "### Assignment 12: Complex Multiple Inheritance\n",
    "\n",
    "Create a class named `Base1` with an attribute `a`. Create a class named `Base2` with an attribute `b`. Create a class named `Derived` that inherits from both `Base1` and `Base2` and adds an attribute `c`. Initialize all attributes using the `super()` function. Create an object of the `Derived` class and print its attributes.\n"
   ]
  },
  {
   "cell_type": "code",
   "execution_count": 12,
   "id": "7c09ec8f",
   "metadata": {},
   "outputs": [
    {
     "name": "stdout",
     "output_type": "stream",
     "text": [
      "Derived(a = 10, b = 25, c = 47)\n"
     ]
    }
   ],
   "source": [
    "class Base1:\n",
    "    def __init__(self, a) -> None:\n",
    "        self.a = a\n",
    "\n",
    "class Base2:\n",
    "    def __init__(self, b) -> None:\n",
    "        self.b = b\n",
    "\n",
    "class Derived(Base1, Base2):\n",
    "    def __init__(self, a, b, c) -> None:\n",
    "        Base1.__init__(self, a)\n",
    "        Base2.__init__(self, b)\n",
    "        self.c = c\n",
    "\n",
    "    def __str__(self) -> str:\n",
    "        return f\"Derived(a = {self.a}, b = {self.b}, c = {self.c})\"\n",
    "    \n",
    "# Test\n",
    "der1 = Derived(10, 25, 47)\n",
    "print(der1)"
   ]
  },
  {
   "cell_type": "markdown",
   "id": "76e1c8fe",
   "metadata": {},
   "source": [
    "\n",
    "### Assignment 13: Checking Instance Types with Inheritance\n",
    "\n",
    "Create a base class named `Animal` and a derived class named `Cat`. Create objects of both classes and use the `isinstance` function to check the instance types.\n"
   ]
  },
  {
   "cell_type": "code",
   "execution_count": 13,
   "id": "d2a9bc55",
   "metadata": {},
   "outputs": [
    {
     "name": "stdout",
     "output_type": "stream",
     "text": [
      "True\n",
      "True\n",
      "False\n",
      "True\n"
     ]
    }
   ],
   "source": [
    "class Animal:\n",
    "    pass\n",
    "\n",
    "class Cat(Animal):\n",
    "    pass\n",
    "\n",
    "animal = Animal()\n",
    "cat = Cat()\n",
    "print(isinstance(animal, Animal))\n",
    "print(isinstance(cat, Animal))\n",
    "print(isinstance(animal, Cat))\n",
    "print(isinstance(cat, Cat))"
   ]
  },
  {
   "cell_type": "markdown",
   "id": "ec54015c",
   "metadata": {},
   "source": [
    "\n",
    "### Assignment 14: Polymorphism with Inheritance\n",
    "\n",
    "Create a base class named `Bird` with a method `speak`. Create two derived classes `Parrot` and `Penguin` that override the `speak` method. Create a list of `Bird` objects and call the `speak` method on each object to demonstrate polymorphism.\n"
   ]
  },
  {
   "cell_type": "code",
   "execution_count": 14,
   "id": "2c46c5cc",
   "metadata": {},
   "outputs": [
    {
     "name": "stdout",
     "output_type": "stream",
     "text": [
      "Parrot says: Squawk!\n",
      "Penquin says: Honk!\n"
     ]
    }
   ],
   "source": [
    "class Bird:\n",
    "\n",
    "    def speak(self):\n",
    "        pass\n",
    "\n",
    "class Parrot(Bird):\n",
    "    def speak(self):\n",
    "        print(\"Parrot says: Squawk!\")\n",
    "\n",
    "class Penguin(Bird):\n",
    "    def speak(self):\n",
    "        print(\"Penquin says: Honk!\")\n",
    "\n",
    "# Test\n",
    "birds = [Parrot(), Penguin()]\n",
    "\n",
    "for bird in birds:\n",
    "    bird.speak()"
   ]
  },
  {
   "cell_type": "markdown",
   "id": "5f571667",
   "metadata": {},
   "source": [
    "\n",
    "### Assignment 15: Combining Single and Multiple Inheritance\n",
    "\n",
    "Create a base class named `Device` with an attribute `brand`. Create a derived class `Phone` that inherits from `Device` and adds an attribute `model`. Create another base class `Camera` with an attribute `resolution`. Create a derived class `Smartphone` that inherits from both `Phone` and `Camera`. Create an object of the `Smartphone` class and print its attributes."
   ]
  },
  {
   "cell_type": "code",
   "execution_count": 15,
   "id": "b0a22551",
   "metadata": {},
   "outputs": [
    {
     "name": "stdout",
     "output_type": "stream",
     "text": [
      "Smartphone(Brand: Apple, Model: iPhone 12, Camera Resolution: 12 MP)\n"
     ]
    }
   ],
   "source": [
    "class Device:\n",
    "    def __init__(self, brand) -> None:\n",
    "        self.brand = brand\n",
    "\n",
    "class Camera:\n",
    "    def __init__(self, resolution) -> None:\n",
    "        self.resolution = resolution\n",
    "\n",
    "class Phone(Device):\n",
    "    def __init__(self, brand, model) -> None:\n",
    "        super().__init__(brand)\n",
    "        self.model = model\n",
    "\n",
    "class Smartphone(Phone, Camera):\n",
    "    def __init__(self, brand, model, resolution) -> None:\n",
    "        Phone.__init__(self, brand, model)\n",
    "        Camera.__init__(self, resolution)\n",
    "\n",
    "    def __str__(self) -> str:\n",
    "        return f'Smartphone(Brand: {self.brand}, Model: {self.model}, Camera Resolution: {self.resolution})'\n",
    "\n",
    "# Test\n",
    "smartphone = Smartphone('Apple', 'iPhone 12', '12 MP')\n",
    "print(smartphone)"
   ]
  }
 ],
 "metadata": {
  "kernelspec": {
   "display_name": "Python 3",
   "language": "python",
   "name": "python3"
  },
  "language_info": {
   "codemirror_mode": {
    "name": "ipython",
    "version": 3
   },
   "file_extension": ".py",
   "mimetype": "text/x-python",
   "name": "python",
   "nbconvert_exporter": "python",
   "pygments_lexer": "ipython3",
   "version": "3.12.4"
  }
 },
 "nbformat": 4,
 "nbformat_minor": 5
}
