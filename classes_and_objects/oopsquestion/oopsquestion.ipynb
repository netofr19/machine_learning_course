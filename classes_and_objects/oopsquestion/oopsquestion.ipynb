{
 "cells": [
  {
   "cell_type": "markdown",
   "metadata": {},
   "source": [
    "# Module: OOP Assignments\n",
    "## Lesson: Polymorphism, Abstraction, and Encapsulation\n"
   ]
  },
  {
   "cell_type": "markdown",
   "id": "75dc2a1e",
   "metadata": {},
   "source": [
    "### Assignment 1: Polymorphism with Methods\n",
    "\n",
    "Create a base class named `Shape` with a method `area`. Create two derived classes `Circle` and `Square` that override the `area` method. Create a list of `Shape` objects and call the `area` method on each object to demonstrate polymorphism.\n"
   ]
  },
  {
   "cell_type": "code",
   "execution_count": 1,
   "id": "f0f62246",
   "metadata": {},
   "outputs": [
    {
     "name": "stdout",
     "output_type": "stream",
     "text": [
      "78.53981633974483\n",
      "64\n"
     ]
    }
   ],
   "source": [
    "import math\n",
    "\n",
    "class Shape:\n",
    "    def area(self):\n",
    "        pass\n",
    "\n",
    "class Circle(Shape):\n",
    "    def __init__(self, radius) -> None:\n",
    "        self.radius = radius\n",
    "\n",
    "    def area(self):\n",
    "        return math.pi * self.radius**2\n",
    "\n",
    "class Square(Shape):\n",
    "    def __init__(self, side) -> None:\n",
    "        self.side = side\n",
    "\n",
    "    def area(self):\n",
    "        return self.side ** 2\n",
    "\n",
    "# Test\n",
    "shapes = [Circle(5), Square(8)]\n",
    "for s in shapes:\n",
    "    print(s.area())"
   ]
  },
  {
   "cell_type": "markdown",
   "id": "6fde09f4",
   "metadata": {},
   "source": [
    "### Assignment 2: Polymorphism with Function Arguments\n",
    "\n",
    "Create a function named `describe_shape` that takes a `Shape` object as an argument and calls its `area` method. Create objects of `Circle` and `Square` classes and pass them to the `describe_shape` function.\n"
   ]
  },
  {
   "cell_type": "code",
   "execution_count": 4,
   "id": "cc2862a6",
   "metadata": {},
   "outputs": [
    {
     "name": "stdout",
     "output_type": "stream",
     "text": [
      "The area of the shape is: 314.1592653589793\n",
      "The area of the shape is: 25\n"
     ]
    }
   ],
   "source": [
    "def describe_shape(shape: Shape) -> None:\n",
    "    print(f\"The area of the shape is: {shape.area()}\")\n",
    "\n",
    "describe_shape(Circle(10))\n",
    "describe_shape(Square(5))"
   ]
  },
  {
   "cell_type": "markdown",
   "id": "3bc8981a",
   "metadata": {},
   "source": [
    "\n",
    "### Assignment 3: Abstract Base Class with Abstract Methods\n",
    "\n",
    "Create an abstract base class named `Vehicle` with an abstract method `start_engine`. Create derived classes `Car` and `Bike` that implement the `start_engine` method. Create objects of the derived classes and call the `start_engine` method.\n"
   ]
  },
  {
   "cell_type": "code",
   "execution_count": 5,
   "id": "f5033d53",
   "metadata": {},
   "outputs": [
    {
     "name": "stdout",
     "output_type": "stream",
     "text": [
      "Car engine started!\n",
      "Bike engine started!\n"
     ]
    }
   ],
   "source": [
    "from abc import ABC, abstractmethod\n",
    "\n",
    "class Vehicle(ABC):\n",
    "    @abstractmethod\n",
    "    def start_engine(self):\n",
    "        pass\n",
    "\n",
    "class Car(Vehicle):\n",
    "    def start_engine(self):\n",
    "        print(\"Car engine started!\")\n",
    "\n",
    "class Bike(Vehicle):\n",
    "    def start_engine(self):\n",
    "        print(\"Bike engine started!\")\n",
    "\n",
    "c1 = Car()\n",
    "c1.start_engine()\n",
    "\n",
    "b1 = Bike()\n",
    "b1.start_engine()"
   ]
  },
  {
   "cell_type": "markdown",
   "id": "dd561158",
   "metadata": {},
   "source": [
    "\n",
    "### Assignment 4: Abstract Base Class with Concrete Methods\n",
    "\n",
    "In the `Vehicle` class, add a concrete method `fuel_type` that returns a generic fuel type. Override this method in `Car` and `Bike` classes to return specific fuel types. Create objects of the derived classes and call the `fuel_type` method.\n"
   ]
  },
  {
   "cell_type": "code",
   "execution_count": 6,
   "id": "417b0f2d",
   "metadata": {},
   "outputs": [
    {
     "name": "stdout",
     "output_type": "stream",
     "text": [
      "Petrol\n",
      "Diesel\n"
     ]
    }
   ],
   "source": [
    "from abc import ABC, abstractmethod\n",
    "\n",
    "class Vehicle(ABC):\n",
    "    @abstractmethod\n",
    "    def start_engine(self):\n",
    "        pass\n",
    "\n",
    "    def fuel_type(self):\n",
    "        return \"Generic Fuel\"\n",
    "\n",
    "class Car(Vehicle):\n",
    "    def start_engine(self):\n",
    "        print(\"Car engine started!\")\n",
    "    \n",
    "    def fuel_type(self):\n",
    "        return \"Petrol\"\n",
    "\n",
    "class Bike(Vehicle):\n",
    "    def start_engine(self):\n",
    "        print(\"Bike engine started!\")\n",
    "\n",
    "    def fuel_type(self):\n",
    "        return \"Diesel\"\n",
    "    \n",
    "# Test\n",
    "c1 = Car()\n",
    "print(c1.fuel_type())\n",
    "\n",
    "b1 = Bike()\n",
    "print(b1.fuel_type())"
   ]
  },
  {
   "cell_type": "markdown",
   "id": "10d57749",
   "metadata": {},
   "source": [
    "\n",
    "### Assignment 5: Encapsulation with Private Attributes\n",
    "\n",
    "Create a class named `BankAccount` with private attributes `account_number` and `balance`. Add methods to deposit and withdraw money, and to check the balance. Ensure that the balance cannot be accessed directly.\n"
   ]
  },
  {
   "cell_type": "markdown",
   "id": "6fb10663",
   "metadata": {},
   "source": [
    "\n",
    "### Assignment 6: Encapsulation with Property Decorators\n",
    "\n",
    "In the `BankAccount` class, use property decorators to get and set the `balance` attribute. Ensure that the balance cannot be set to a negative value.\n"
   ]
  },
  {
   "cell_type": "markdown",
   "id": "974e2f33",
   "metadata": {},
   "source": [
    "\n",
    "### Assignment 7: Combining Encapsulation and Inheritance\n",
    "\n",
    "Create a base class named `Person` with private attributes `name` and `age`. Add methods to get and set these attributes. Create a derived class named `Student` that adds an attribute `student_id`. Create an object of the `Student` class and test the encapsulation.\n"
   ]
  },
  {
   "cell_type": "markdown",
   "id": "1b653ec6",
   "metadata": {},
   "source": [
    "\n",
    "### Assignment 8: Polymorphism with Inheritance\n",
    "\n",
    "Create a base class named `Animal` with a method `speak`. Create two derived classes `Dog` and `Cat` that override the `speak` method. Create a list of `Animal` objects and call the `speak` method on each object to demonstrate polymorphism.\n"
   ]
  },
  {
   "cell_type": "markdown",
   "id": "bb2a399c",
   "metadata": {},
   "source": [
    "\n",
    "### Assignment 9: Abstract Methods in Base Class\n",
    "\n",
    "Create an abstract base class named `Employee` with an abstract method `calculate_salary`. Create two derived classes `FullTimeEmployee` and `PartTimeEmployee` that implement the `calculate_salary` method. Create objects of the derived classes and call the `calculate_salary` method.\n"
   ]
  },
  {
   "cell_type": "markdown",
   "id": "602419fd",
   "metadata": {},
   "source": [
    "\n",
    "### Assignment 10: Encapsulation in Data Classes\n",
    "\n",
    "Create a data class named `Product` with private attributes `product_id`, `name`, and `price`. Add methods to get and set these attributes. Ensure that the price cannot be set to a negative value.\n"
   ]
  },
  {
   "cell_type": "markdown",
   "id": "c39d477d",
   "metadata": {},
   "source": [
    "\n",
    "### Assignment 11: Polymorphism with Operator Overloading\n",
    "\n",
    "Create a class named `Vector` with attributes `x` and `y`. Overload the `+` operator to add two `Vector` objects. Create objects of the class and test the operator overloading.\n"
   ]
  },
  {
   "cell_type": "markdown",
   "id": "3f72208e",
   "metadata": {},
   "source": [
    "\n",
    "### Assignment 12: Abstract Properties\n",
    "\n",
    "Create an abstract base class named `Appliance` with an abstract property `power`. Create two derived classes `WashingMachine` and `Refrigerator` that implement the `power` property. Create objects of the derived classes and access the `power` property.\n"
   ]
  },
  {
   "cell_type": "markdown",
   "id": "eb1dd132",
   "metadata": {},
   "source": [
    "\n",
    "### Assignment 13: Encapsulation in Class Hierarchies\n",
    "\n",
    "Create a base class named `Account` with private attributes `account_number` and `balance`. Add methods to get and set these attributes. Create a derived class named `SavingsAccount` that adds an attribute `interest_rate`. Create an object of the `SavingsAccount` class and test the encapsulation.\n"
   ]
  },
  {
   "cell_type": "markdown",
   "id": "831d102e",
   "metadata": {},
   "source": [
    "\n",
    "### Assignment 14: Polymorphism with Multiple Inheritance\n",
    "\n",
    "Create a class named `Flyer` with a method `fly`. Create a class named `Swimmer` with a method `swim`. Create a class named `Superhero` that inherits from both `Flyer` and `Swimmer` and overrides both methods. Create an object of the `Superhero` class and call both methods.\n"
   ]
  },
  {
   "cell_type": "markdown",
   "id": "99f2b16c",
   "metadata": {},
   "source": [
    "\n",
    "### Assignment 15: Abstract Methods and Multiple Inheritance\n",
    "\n",
    "Create an abstract base class named `Worker` with an abstract method `work`. Create two derived classes `Engineer` and `Doctor` that implement the `work` method. Create another derived class `Scientist` that inherits from both `Engineer` and `Doctor`. Create an object of the `Scientist` class and call the `work` method."
   ]
  },
  {
   "cell_type": "markdown",
   "id": "da54d6ee",
   "metadata": {},
   "source": []
  }
 ],
 "metadata": {
  "kernelspec": {
   "display_name": "Python 3",
   "language": "python",
   "name": "python3"
  },
  "language_info": {
   "codemirror_mode": {
    "name": "ipython",
    "version": 3
   },
   "file_extension": ".py",
   "mimetype": "text/x-python",
   "name": "python",
   "nbconvert_exporter": "python",
   "pygments_lexer": "ipython3",
   "version": "3.12.4"
  }
 },
 "nbformat": 4,
 "nbformat_minor": 5
}
