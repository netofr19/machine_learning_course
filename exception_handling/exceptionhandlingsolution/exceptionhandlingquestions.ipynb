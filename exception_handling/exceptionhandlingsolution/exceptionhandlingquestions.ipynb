{
 "cells": [
  {
   "cell_type": "markdown",
   "metadata": {},
   "source": [
    "# Module: Exception Handling Assignments\n",
    "## Lesson: Exception Handling with try, except, and finally"
   ]
  },
  {
   "cell_type": "markdown",
   "id": "1b6feca2",
   "metadata": {},
   "source": [
    "### Assignment 1: Handling Division by Zero\n",
    "\n",
    "Write a function that takes two integers as input and returns their division. Use try, except, and finally blocks to handle division by zero and print an appropriate message."
   ]
  },
  {
   "cell_type": "code",
   "execution_count": 2,
   "metadata": {},
   "outputs": [
    {
     "name": "stdout",
     "output_type": "stream",
     "text": [
      "Execution Complete.\n",
      "2.0\n",
      "Error: division by zero\n",
      "Execution Complete.\n",
      "None\n"
     ]
    }
   ],
   "source": [
    "def divide(a: int, b: int)-> int|None:\n",
    "    try:\n",
    "        result = a / b\n",
    "    except ZeroDivisionError as e:\n",
    "        print(f\"Error: {e}\")\n",
    "        result = None\n",
    "    finally:\n",
    "        print('Execution Complete.')\n",
    "    return result\n",
    "\n",
    "print(divide(10,5))\n",
    "print(divide(10,0))"
   ]
  },
  {
   "cell_type": "markdown",
   "id": "854b17ca",
   "metadata": {},
   "source": [
    "### Assignment 2: File Reading with Exception Handling\n",
    "\n",
    "Write a function that reads the contents of a file named `data.txt`. Use try, except, and finally blocks to handle file not found errors and ensure the file is properly closed."
   ]
  },
  {
   "cell_type": "code",
   "execution_count": 4,
   "id": "5e2fde15",
   "metadata": {},
   "outputs": [
    {
     "name": "stdout",
     "output_type": "stream",
     "text": [
      "Hello, world!\n",
      "this is a new line.Append operation taking place!Append operation taking place!\n",
      "Append operation taking place!\n",
      "First line \n",
      "Second line \n",
      "Third line \n",
      "\n",
      "error = [Errno 2] No such file or directory: '/home/enacom/Documents/courses/machine_learning_course/file_handling/NotExist.txt'\n",
      "None\n"
     ]
    }
   ],
   "source": [
    "def read_file(file: str):\n",
    "    try:\n",
    "        with open(file, 'r') as file:\n",
    "            content = file.read()\n",
    "        return content\n",
    "    except FileNotFoundError as e:\n",
    "        print(f\"error = {e}\")\n",
    "\n",
    "content = read_file('/home/enacom/Documents/courses/machine_learning_course/file_handling/destination.txt')\n",
    "print(content)\n",
    "\n",
    "content1 = read_file('/home/enacom/Documents/courses/machine_learning_course/file_handling/NotExist.txt')\n",
    "print(content1)"
   ]
  },
  {
   "cell_type": "markdown",
   "id": "44b6f344",
   "metadata": {},
   "source": [
    "### Assignment 3: Handling Multiple Exceptions\n",
    "\n",
    "Write a function that takes a list of integers and returns their sum. Use try, except, and finally blocks to handle TypeError if a non-integer value is encountered and print an appropriate message."
   ]
  },
  {
   "cell_type": "code",
   "execution_count": 7,
   "id": "b2c8e015",
   "metadata": {},
   "outputs": [
    {
     "name": "stdout",
     "output_type": "stream",
     "text": [
      "Execution complete.\n",
      "170\n",
      "error = unsupported operand type(s) for +=: 'int' and 'str'\n",
      "Execution complete.\n",
      "None\n"
     ]
    }
   ],
   "source": [
    "def sum_list(lst: list) -> int | None:\n",
    "    try:\n",
    "        total = 0\n",
    "        for item in lst:\n",
    "            total += item\n",
    "    except TypeError as e:\n",
    "        print(f\"error = {e}\")\n",
    "        total = None\n",
    "    finally:\n",
    "        print(\"Execution complete.\")\n",
    "    return total\n",
    "\n",
    "\n",
    "print(sum_list([10, 20, 30, 50, 60]))\n",
    "print(sum_list([10, 20, 30, 50, 'a']))"
   ]
  },
  {
   "cell_type": "markdown",
   "id": "034e2fc3",
   "metadata": {},
   "source": [
    "### Assignment 4: Exception Handling in User Input\n",
    "\n",
    "Write a function that prompts the user to enter an integer. Use try, except, and finally blocks to handle ValueError if the user enters a non-integer value and print an appropriate message."
   ]
  },
  {
   "cell_type": "code",
   "execution_count": 9,
   "id": "41402041",
   "metadata": {},
   "outputs": [
    {
     "name": "stdout",
     "output_type": "stream",
     "text": [
      "Error: invalid literal for int() with base 10: 'a'\n",
      "Please, type an integer value.\n",
      "Execution Complete.\n"
     ]
    }
   ],
   "source": [
    "def get_integer():\n",
    "    try:\n",
    "        value = int(input(\"Enter an integer: \"))\n",
    "    except ValueError as e:\n",
    "        print(f\"Error: {e}\")\n",
    "        print(\"Please, type an integer value.\")\n",
    "        value = None\n",
    "    finally:\n",
    "        print(\"Execution Complete.\")\n",
    "    return value\n",
    "\n",
    "get_integer()"
   ]
  },
  {
   "cell_type": "markdown",
   "id": "39612d76",
   "metadata": {},
   "source": [
    "### Assignment 5: Exception Handling in Dictionary Access\n",
    "\n",
    "Write a function that takes a dictionary and a key as input and returns the value associated with the key. Use try, except, and finally blocks to handle KeyError if the key is not found in the dictionary and print an appropriate message."
   ]
  },
  {
   "cell_type": "code",
   "execution_count": 13,
   "id": "7ce41220",
   "metadata": {},
   "outputs": [
    {
     "name": "stdout",
     "output_type": "stream",
     "text": [
      "Execution Complete.\n",
      "John\n",
      "Execution Complete.\n",
      "21\n",
      "Error = 'hobbies'\n",
      "Execution Complete.\n",
      "None\n"
     ]
    }
   ],
   "source": [
    "def get_dict_value(d: dict, key: str):\n",
    "    try:\n",
    "        value = d[key]\n",
    "    except KeyError as e:\n",
    "        print(f\"Error = {e}\")\n",
    "        value = None\n",
    "    finally:\n",
    "        print(\"Execution Complete.\")\n",
    "    return value\n",
    "\n",
    "\n",
    "dict_ = {\n",
    "    'name': 'John',\n",
    "    'age': 21,\n",
    "    'level': 15,\n",
    "    'address': '49th street',\n",
    "    'country': 'Brazil'\n",
    "}\n",
    "\n",
    "print(get_dict_value(dict_, 'name'))\n",
    "print(get_dict_value(dict_, 'age'))\n",
    "print(get_dict_value(dict_, 'hobbies'))\n"
   ]
  },
  {
   "cell_type": "markdown",
   "id": "7d2179e6",
   "metadata": {},
   "source": [
    "### Assignment 6: Nested Exception Handling\n",
    "\n",
    "Write a function that performs nested exception handling. It should first attempt to convert a string to an integer, and then attempt to divide by that integer. Use nested try, except, and finally blocks to handle ValueError and ZeroDivisionError and print appropriate messages."
   ]
  },
  {
   "cell_type": "code",
   "execution_count": 21,
   "id": "ef2935b7",
   "metadata": {},
   "outputs": [
    {
     "name": "stdout",
     "output_type": "stream",
     "text": [
      "Overall execution complete.\n",
      "1.0\n"
     ]
    }
   ],
   "source": [
    "def convert_and_divide_str(s):\n",
    "    try:\n",
    "        int_value = int(s)\n",
    "        try:\n",
    "            result = 10/int_value\n",
    "        except ZeroDivisionError as e:\n",
    "            print(f\"Error = {e}\")\n",
    "            result = None\n",
    "    except ValueError as e:\n",
    "        print(f\"Error = {e}\")\n",
    "        result = None\n",
    "    finally:\n",
    "        print(\"Overall execution complete.\")\n",
    "    return result\n",
    "\n",
    "print(convert_and_divide_str('10'))\n"
   ]
  },
  {
   "cell_type": "markdown",
   "id": "a27f764d",
   "metadata": {},
   "source": [
    "### Assignment 7: Exception Handling in List Operations\n",
    "\n",
    "Write a function that takes a list and an index as input and returns the element at the given index. Use try, except, and finally blocks to handle IndexError if the index is out of range and print an appropriate message."
   ]
  },
  {
   "cell_type": "code",
   "execution_count": 23,
   "id": "fd583b0a",
   "metadata": {},
   "outputs": [
    {
     "name": "stdout",
     "output_type": "stream",
     "text": [
      "Execution Complete.\n",
      "60\n",
      "Execution Complete.\n",
      "10\n",
      "Error = list index out of range\n",
      "Execution Complete.\n",
      "None\n"
     ]
    }
   ],
   "source": [
    "def get_list_element(lst, index):\n",
    "    try:\n",
    "        value = lst[index]\n",
    "    except IndexError as e:\n",
    "        print(f\"Error = {e}\")\n",
    "        value = None\n",
    "    finally:\n",
    "        print(\"Execution Complete.\")\n",
    "    return value\n",
    "\n",
    "print(get_list_element([10, 20, 30, 40, 50, 60, 70, 20, 45], 5))\n",
    "print(get_list_element([10, 20, 30, 40, 50, 60, 70, 20, 45], 0))\n",
    "print(get_list_element([10, 20, 30, 40, 50, 60, 70, 20, 45], 20))"
   ]
  },
  {
   "cell_type": "markdown",
   "id": "5740af91",
   "metadata": {},
   "source": [
    "### Assignment 8: Exception Handling in Network Operations\n",
    "\n",
    "Write a function that attempts to open a URL and read its contents. Use try, except, and finally blocks to handle network-related errors and print an appropriate message."
   ]
  },
  {
   "cell_type": "code",
   "execution_count": 25,
   "id": "186fbc51",
   "metadata": {},
   "outputs": [],
   "source": [
    "import requests"
   ]
  },
  {
   "cell_type": "code",
   "execution_count": 30,
   "id": "33a9c279",
   "metadata": {},
   "outputs": [
    {
     "name": "stdout",
     "output_type": "stream",
     "text": [
      "Execution Complete.\n"
     ]
    },
    {
     "data": {
      "text/plain": [
       "200"
      ]
     },
     "execution_count": 30,
     "metadata": {},
     "output_type": "execute_result"
    }
   ],
   "source": [
    "def read_url(url):\n",
    "    try:\n",
    "        response = requests.get(url)\n",
    "        return response.status_code\n",
    "    except requests.RequestException as e:\n",
    "        print(f\"Network error: {e}\")\n",
    "        return None\n",
    "    finally:\n",
    "        print(\"Execution Complete.\")\n",
    "\n",
    "read_url('https://www.google.com.br')"
   ]
  },
  {
   "cell_type": "markdown",
   "id": "95e95235",
   "metadata": {},
   "source": [
    "### Assignment 9: Exception Handling in JSON Parsing\n",
    "\n",
    "Write a function that attempts to parse a JSON string. Use try, except, and finally blocks to handle JSONDecodeError if the string is not a valid JSON and print an appropriate message.\n"
   ]
  },
  {
   "cell_type": "code",
   "execution_count": 31,
   "id": "4fc36242",
   "metadata": {},
   "outputs": [],
   "source": [
    "import json"
   ]
  },
  {
   "cell_type": "code",
   "execution_count": 35,
   "id": "34b88e69",
   "metadata": {},
   "outputs": [
    {
     "name": "stdout",
     "output_type": "stream",
     "text": [
      "{'key': 'value'}\n",
      "JSON Error = Expecting value: line 1 column 1 (char 0)\n",
      "None\n"
     ]
    }
   ],
   "source": [
    "def parse_json(json_string):\n",
    "    try:\n",
    "        data = json.loads(json_string)\n",
    "        return data\n",
    "    except json.JSONDecodeError as e:\n",
    "        print(f\"JSON Error = {e}\")\n",
    "\n",
    "print(parse_json('{\"key\": \"value\"}'))\n",
    "print(parse_json('String de teste'))"
   ]
  },
  {
   "cell_type": "markdown",
   "id": "3b26a85f",
   "metadata": {},
   "source": [
    "### Assignment 10: Custom Exception Handling\n",
    "\n",
    "Define a custom exception named `NegativeNumberError`. Write a function that raises this exception if a negative number is encountered in a list. Use try, except, and finally blocks to handle the custom exception and print an appropriate message.\n"
   ]
  },
  {
   "cell_type": "code",
   "execution_count": 37,
   "id": "754a3a60",
   "metadata": {},
   "outputs": [
    {
     "name": "stdout",
     "output_type": "stream",
     "text": [
      "Error = Negative number found: -2\n",
      "Execution complete.\n"
     ]
    }
   ],
   "source": [
    "class NegativeNumberError(Exception):\n",
    "    pass\n",
    "\n",
    "def check_for_negatives(lst):\n",
    "    try:\n",
    "        for num in lst:\n",
    "            if num < 0:\n",
    "                raise NegativeNumberError(f\"Negative number found: {num}\")\n",
    "    except NegativeNumberError as e:\n",
    "        print(f\"Error = {e}\")\n",
    "    finally:\n",
    "        print(\"Execution complete.\")\n",
    "\n",
    "check_for_negatives([1, -2, 4, 5])"
   ]
  },
  {
   "cell_type": "markdown",
   "id": "8070686c",
   "metadata": {},
   "source": [
    "\n",
    "### Assignment 11: Exception Handling in Function Calls\n",
    "\n",
    "Write a function that calls another function which may raise an exception. Use try, except, and finally blocks to handle the exception and print an appropriate message.\n"
   ]
  },
  {
   "cell_type": "markdown",
   "id": "55180100",
   "metadata": {},
   "source": [
    "\n",
    "### Assignment 12: Exception Handling in Class Methods\n",
    "\n",
    "Define a class with a method that performs a division operation. Use try, except, and finally blocks within the method to handle division by zero and print an appropriate message.\n"
   ]
  },
  {
   "cell_type": "markdown",
   "id": "21a4a65c",
   "metadata": {},
   "source": [
    "\n",
    "### Assignment 13: Exception Handling in Data Conversion\n",
    "\n",
    "Write a function that takes a list of strings and converts them to integers. Use try, except, and finally blocks to handle ValueError if a string cannot be converted and print an appropriate message.\n"
   ]
  },
  {
   "cell_type": "markdown",
   "id": "dced544f",
   "metadata": {},
   "source": [
    "\n",
    "### Assignment 14: Exception Handling in List Comprehensions\n",
    "\n",
    "Write a function that uses a list comprehension to convert a list of strings to integers. Use try, except, and finally blocks within the list comprehension to handle ValueError and print an appropriate message.\n"
   ]
  },
  {
   "cell_type": "markdown",
   "id": "8eb986e8",
   "metadata": {},
   "source": [
    "\n",
    "### Assignment 15: Exception Handling in File Writing\n",
    "\n",
    "Write a function that attempts to write a list of strings to a file. Use try, except, and finally blocks to handle IOError and ensure the file is properly closed."
   ]
  }
 ],
 "metadata": {
  "kernelspec": {
   "display_name": "Python 3",
   "language": "python",
   "name": "python3"
  },
  "language_info": {
   "codemirror_mode": {
    "name": "ipython",
    "version": 3
   },
   "file_extension": ".py",
   "mimetype": "text/x-python",
   "name": "python",
   "nbconvert_exporter": "python",
   "pygments_lexer": "ipython3",
   "version": "3.12.4"
  }
 },
 "nbformat": 4,
 "nbformat_minor": 5
}
