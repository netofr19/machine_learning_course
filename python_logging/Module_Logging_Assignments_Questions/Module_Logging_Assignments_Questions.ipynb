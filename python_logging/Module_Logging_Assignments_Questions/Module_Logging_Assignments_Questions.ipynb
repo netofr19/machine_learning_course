{
 "cells": [
  {
   "cell_type": "markdown",
   "metadata": {},
   "source": [
    "# Module: Logging Assignments\n",
    "## Lesson: Logging\n"
   ]
  },
  {
   "cell_type": "markdown",
   "id": "8b251119",
   "metadata": {},
   "source": [
    "### Assignment 1: Basic Logging\n",
    "\n",
    "1. Write a Python function to create a basic logger that logs messages to a file named `app.log`.\n",
    "2. Modify the function to log messages of levels: DEBUG, INFO, WARNING, ERROR, and CRITICAL.\n"
   ]
  },
  {
   "cell_type": "code",
   "execution_count": 3,
   "id": "b7033fa1",
   "metadata": {},
   "outputs": [],
   "source": [
    "import logging\n",
    "\n",
    "def basic_logger():\n",
    "    logging.basicConfig(\n",
    "        filename='app_exercise.log', \n",
    "        filemode='w',\n",
    "        level=logging.DEBUG, \n",
    "        format='%(asctime)s - %(name)s - %(levelname)s - %(message)s',\n",
    "        datefmt='%Y-%m-%d %H:%M:%S'\n",
    "        )\n",
    "\n",
    "    logging.debug(\"This is a debug message\")\n",
    "    logging.info(\"This is a info message\")\n",
    "    logging.warning(\"This is a warning(message\")\n",
    "    logging.error(\"This is a error message\")\n",
    "    logging.critical(\"This is a critical message\")\n",
    "\n",
    "basic_logger()"
   ]
  },
  {
   "cell_type": "markdown",
   "id": "6669be8d",
   "metadata": {},
   "source": [
    "\n",
    "### Assignment 2: Logging with Different Handlers\n",
    "\n",
    "1. Write a Python function to create a logger that logs messages to both a file named `app.log` and the console.\n",
    "2. Modify the function to use different logging levels for the file and console handlers.\n"
   ]
  },
  {
   "cell_type": "markdown",
   "id": "ea534d8f",
   "metadata": {},
   "source": [
    "\n",
    "### Assignment 3: Formatting Log Messages\n",
    "\n",
    "1. Write a Python function to create a logger with a custom log message format that includes the timestamp, logging level, and message.\n",
    "2. Modify the function to use different formats for the file and console handlers."
   ]
  },
  {
   "cell_type": "markdown",
   "id": "46ea18c3",
   "metadata": {},
   "source": [
    "\n",
    "\n",
    "### Assignment 4: Rotating Log Files\n",
    "\n",
    "1. Write a Python function to create a logger that uses a rotating file handler, which creates a new log file when the current log file reaches a certain size.\n",
    "2. Modify the function to keep a specified number of backup log files.\n"
   ]
  },
  {
   "cell_type": "markdown",
   "id": "8188814f",
   "metadata": {},
   "source": [
    "\n",
    "### Assignment 5: Logging Exceptions\n",
    "\n",
    "1. Write a Python function that logs an exception stack trace to a log file when an exception occurs.\n",
    "2. Modify the function to log the stack trace at the ERROR level.\n"
   ]
  },
  {
   "cell_type": "markdown",
   "id": "442a1b30",
   "metadata": {},
   "source": [
    "\n",
    "### Assignment 6: Contextual Logging\n",
    "\n",
    "1. Write a Python function to create a logger that includes contextual information (e.g., function name, line number) in the log messages.\n",
    "2. Modify the function to include additional contextual information (e.g., user ID, session ID).\n"
   ]
  },
  {
   "cell_type": "markdown",
   "id": "bb32f8be",
   "metadata": {},
   "source": [
    "\n",
    "### Assignment 7: Configuring Logging with a Dictionary\n",
    "\n",
    "1. Write a Python function to configure logging using a dictionary. The configuration should include handlers for both file and console logging.\n",
    "2. Modify the dictionary to include different logging levels and formats for each handler.\n"
   ]
  },
  {
   "cell_type": "markdown",
   "id": "d1052518",
   "metadata": {},
   "source": [
    "\n",
    "### Assignment 8: Logging in a Multi-Module Application\n",
    "\n",
    "1. Write a Python script that sets up logging for a multi-module application. Each module should have its own logger.\n",
    "2. Modify the script to propagate log messages from each module's logger to a root logger that handles logging to a file.\n"
   ]
  },
  {
   "cell_type": "markdown",
   "id": "159bd9b2",
   "metadata": {},
   "source": [
    "\n",
    "### Assignment 9: Logging Performance\n",
    "\n",
    "1. Write a Python script to benchmark the performance of logging with different handlers (e.g., file handler, console handler, rotating file handler).\n",
    "2. Modify the script to compare the performance of logging with and without message formatting.\n"
   ]
  },
  {
   "cell_type": "markdown",
   "id": "84600532",
   "metadata": {},
   "source": [
    "\n",
    "### Assignment 10: Advanced Logging Configuration\n",
    "\n",
    "1. Write a Python function to configure logging using an external configuration file (e.g., `logging.conf`). The configuration should include handlers for file and console logging.\n",
    "2. Modify the configuration file to use different logging levels and formats for each handler."
   ]
  }
 ],
 "metadata": {
  "kernelspec": {
   "display_name": "Python 3",
   "language": "python",
   "name": "python3"
  },
  "language_info": {
   "codemirror_mode": {
    "name": "ipython",
    "version": 3
   },
   "file_extension": ".py",
   "mimetype": "text/x-python",
   "name": "python",
   "nbconvert_exporter": "python",
   "pygments_lexer": "ipython3",
   "version": "3.12.4"
  }
 },
 "nbformat": 4,
 "nbformat_minor": 5
}
